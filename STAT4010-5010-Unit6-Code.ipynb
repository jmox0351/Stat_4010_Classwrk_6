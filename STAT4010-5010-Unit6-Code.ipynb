{
 "cells": [
  {
   "cell_type": "markdown",
   "metadata": {},
   "source": [
    "# STAT 4010/5010 Unit #6 Code: GLMs\n",
    "\n",
    "The goal of this notebook is to learn to model data using generalized linear models, and interpret the results.\n",
    "\n",
    "\n",
    "## Problem #1\n",
    "In January 1986, the space shuttle Challenger exploded shortly after launch. An investigation was launched into the cause of the crash and attention focused on the rubber O-ring seals in the rocket boosters. At lower temperatures, rubber becomes more brittle and is a less effective sealant. At the time of the launch, the temperature was 31°F. Could the failure of the O-rings have been predicted? In the 23 previous shuttle missions for which data exists, some evidence of damage due to blow by and erosion was recorded on some O-rings. Each shuttle had two boosters, each with three O-rings. For each mission, we know the number of O-rings out of six showing some damage and the launch temperature. \n",
    "\n",
    "The 'orings' is a data frame with 23 observations on the following 2 variables.\n",
    "\n",
    "1. temp:  Ambient temperature (Fahrenheit) at launch time\n",
    "2. damage: Number of damaged 'O' rings (out of a total of 6)\n",
    "\n",
    "#### (a) Construct a new variable called prop, which is the proportion of damaged 'O' rings. Plot prop against temperature. What do you notice about this plot?"
   ]
  },
  {
   "cell_type": "code",
   "execution_count": 6,
   "metadata": {
    "scrolled": false
   },
   "outputs": [
    {
     "data": {
      "text/html": [
       "<table>\n",
       "<thead><tr><th scope=col>temp</th><th scope=col>damage</th></tr></thead>\n",
       "<tbody>\n",
       "\t<tr><td>53</td><td>5 </td></tr>\n",
       "\t<tr><td>57</td><td>1 </td></tr>\n",
       "\t<tr><td>58</td><td>1 </td></tr>\n",
       "\t<tr><td>63</td><td>1 </td></tr>\n",
       "\t<tr><td>66</td><td>0 </td></tr>\n",
       "\t<tr><td>67</td><td>0 </td></tr>\n",
       "</tbody>\n",
       "</table>\n"
      ],
      "text/latex": [
       "\\begin{tabular}{r|ll}\n",
       " temp & damage\\\\\n",
       "\\hline\n",
       "\t 53 & 5 \\\\\n",
       "\t 57 & 1 \\\\\n",
       "\t 58 & 1 \\\\\n",
       "\t 63 & 1 \\\\\n",
       "\t 66 & 0 \\\\\n",
       "\t 67 & 0 \\\\\n",
       "\\end{tabular}\n"
      ],
      "text/markdown": [
       "\n",
       "| temp | damage |\n",
       "|---|---|\n",
       "| 53 | 5  |\n",
       "| 57 | 1  |\n",
       "| 58 | 1  |\n",
       "| 63 | 1  |\n",
       "| 66 | 0  |\n",
       "| 67 | 0  |\n",
       "\n"
      ],
      "text/plain": [
       "  temp damage\n",
       "1 53   5     \n",
       "2 57   1     \n",
       "3 58   1     \n",
       "4 63   1     \n",
       "5 66   0     \n",
       "6 67   0     "
      ]
     },
     "metadata": {},
     "output_type": "display_data"
    }
   ],
   "source": [
    "rm(list = ls())\n",
    "#library(faraway) #If you have trouble loading the faraway package, \n",
    "#please load the data file given in the Unit #6 folder on canvas.\n",
    "#library(MASS)\n",
    "#install.packages('aod')\n",
    "#library(aod) #wald.test\n",
    "#library(lmtest) #lrtest (likelihood ratio test--same as anova)\n",
    "\n",
    "data(orings)#If you have trouble loading the faraway package, \n",
    "#please load the data file given in the Unit #6 folder on canvas.\n",
    "\n",
    "head(orings)\n",
    "\n"
   ]
  },
  {
   "cell_type": "markdown",
   "metadata": {},
   "source": [
    "#### (b) Let's use the 'glm' function for fitting the logit model (logistic regression). The first argument will be the model: RESPONSE ~ PREDICTORS. For binomial response data, we need two pieces of information about the response values—y and n. Thus for binomial families, the response can be specified as a two-column matrix with the columns giving the numbers of successes and failures. You'll also need to specify the family argument, and the data argument. Other arguments should include 'data' and 'family'. Use ?glm to specify these arguments.\n"
   ]
  },
  {
   "cell_type": "code",
   "execution_count": 7,
   "metadata": {},
   "outputs": [
    {
     "data": {
      "text/plain": [
       "\n",
       "Call:\n",
       "glm(formula = cbind(orings$damage, 6 - orings$damage) ~ temp, \n",
       "    family = binomial, data = orings)\n",
       "\n",
       "Deviance Residuals: \n",
       "    Min       1Q   Median       3Q      Max  \n",
       "-0.9529  -0.7345  -0.4393  -0.2079   1.9565  \n",
       "\n",
       "Coefficients:\n",
       "            Estimate Std. Error z value Pr(>|z|)    \n",
       "(Intercept) 11.66299    3.29626   3.538 0.000403 ***\n",
       "temp        -0.21623    0.05318  -4.066 4.78e-05 ***\n",
       "---\n",
       "Signif. codes:  0 '***' 0.001 '**' 0.01 '*' 0.05 '.' 0.1 ' ' 1\n",
       "\n",
       "(Dispersion parameter for binomial family taken to be 1)\n",
       "\n",
       "    Null deviance: 38.898  on 22  degrees of freedom\n",
       "Residual deviance: 16.912  on 21  degrees of freedom\n",
       "AIC: 33.675\n",
       "\n",
       "Number of Fisher Scoring iterations: 6\n"
      ]
     },
     "metadata": {},
     "output_type": "display_data"
    }
   ],
   "source": [
    "glmod1 = glm(data = orings, cbind(orings$damage, 6-orings$damage)~temp, family = binomial)\n",
    "summary(glmod1)"
   ]
  },
  {
   "cell_type": "code",
   "execution_count": 10,
   "metadata": {},
   "outputs": [
    {
     "data": {
      "text/html": [
       "<table>\n",
       "<thead><tr><th scope=col>temp</th><th scope=col>damage</th><th scope=col>orings$damage/6</th></tr></thead>\n",
       "<tbody>\n",
       "\t<tr><td>53       </td><td>5        </td><td>0.8333333</td></tr>\n",
       "\t<tr><td>57       </td><td>1        </td><td>0.1666667</td></tr>\n",
       "\t<tr><td>58       </td><td>1        </td><td>0.1666667</td></tr>\n",
       "\t<tr><td>63       </td><td>1        </td><td>0.1666667</td></tr>\n",
       "\t<tr><td>66       </td><td>0        </td><td>0.0000000</td></tr>\n",
       "\t<tr><td>67       </td><td>0        </td><td>0.0000000</td></tr>\n",
       "</tbody>\n",
       "</table>\n"
      ],
      "text/latex": [
       "\\begin{tabular}{r|lll}\n",
       " temp & damage & orings\\$damage/6\\\\\n",
       "\\hline\n",
       "\t 53        & 5         & 0.8333333\\\\\n",
       "\t 57        & 1         & 0.1666667\\\\\n",
       "\t 58        & 1         & 0.1666667\\\\\n",
       "\t 63        & 1         & 0.1666667\\\\\n",
       "\t 66        & 0         & 0.0000000\\\\\n",
       "\t 67        & 0         & 0.0000000\\\\\n",
       "\\end{tabular}\n"
      ],
      "text/markdown": [
       "\n",
       "| temp | damage | orings$damage/6 |\n",
       "|---|---|---|\n",
       "| 53        | 5         | 0.8333333 |\n",
       "| 57        | 1         | 0.1666667 |\n",
       "| 58        | 1         | 0.1666667 |\n",
       "| 63        | 1         | 0.1666667 |\n",
       "| 66        | 0         | 0.0000000 |\n",
       "| 67        | 0         | 0.0000000 |\n",
       "\n"
      ],
      "text/plain": [
       "  temp damage orings$damage/6\n",
       "1 53   5      0.8333333      \n",
       "2 57   1      0.1666667      \n",
       "3 58   1      0.1666667      \n",
       "4 63   1      0.1666667      \n",
       "5 66   0      0.0000000      \n",
       "6 67   0      0.0000000      "
      ]
     },
     "metadata": {},
     "output_type": "display_data"
    }
   ],
   "source": [
    "orings = cbind(orings, orings$damage/6)\n",
    "head(orings)"
   ]
  },
  {
   "cell_type": "code",
   "execution_count": 13,
   "metadata": {},
   "outputs": [
    {
     "data": {
      "text/html": [
       "<table>\n",
       "<thead><tr><th scope=col>temp</th><th scope=col>damage</th><th scope=col>prob</th></tr></thead>\n",
       "<tbody>\n",
       "\t<tr><td>53       </td><td>5        </td><td>0.8333333</td></tr>\n",
       "\t<tr><td>57       </td><td>1        </td><td>0.1666667</td></tr>\n",
       "\t<tr><td>58       </td><td>1        </td><td>0.1666667</td></tr>\n",
       "\t<tr><td>63       </td><td>1        </td><td>0.1666667</td></tr>\n",
       "\t<tr><td>66       </td><td>0        </td><td>0.0000000</td></tr>\n",
       "\t<tr><td>67       </td><td>0        </td><td>0.0000000</td></tr>\n",
       "</tbody>\n",
       "</table>\n"
      ],
      "text/latex": [
       "\\begin{tabular}{r|lll}\n",
       " temp & damage & prob\\\\\n",
       "\\hline\n",
       "\t 53        & 5         & 0.8333333\\\\\n",
       "\t 57        & 1         & 0.1666667\\\\\n",
       "\t 58        & 1         & 0.1666667\\\\\n",
       "\t 63        & 1         & 0.1666667\\\\\n",
       "\t 66        & 0         & 0.0000000\\\\\n",
       "\t 67        & 0         & 0.0000000\\\\\n",
       "\\end{tabular}\n"
      ],
      "text/markdown": [
       "\n",
       "| temp | damage | prob |\n",
       "|---|---|---|\n",
       "| 53        | 5         | 0.8333333 |\n",
       "| 57        | 1         | 0.1666667 |\n",
       "| 58        | 1         | 0.1666667 |\n",
       "| 63        | 1         | 0.1666667 |\n",
       "| 66        | 0         | 0.0000000 |\n",
       "| 67        | 0         | 0.0000000 |\n",
       "\n"
      ],
      "text/plain": [
       "  temp damage prob     \n",
       "1 53   5      0.8333333\n",
       "2 57   1      0.1666667\n",
       "3 58   1      0.1666667\n",
       "4 63   1      0.1666667\n",
       "5 66   0      0.0000000\n",
       "6 67   0      0.0000000"
      ]
     },
     "metadata": {},
     "output_type": "display_data"
    }
   ],
   "source": [
    "names(orings)[3] = 'prob'\n",
    "head(orings)"
   ]
  },
  {
   "cell_type": "markdown",
   "metadata": {},
   "source": [
    "#### (c) Plot the data again with the logit model. You can do this easily with the ilogit function."
   ]
  },
  {
   "cell_type": "code",
   "execution_count": 18,
   "metadata": {},
   "outputs": [
    {
     "data": {
      "image/png": "[encoded data removed]",
      "text/plain": [
       "plot without title"
      ]
     },
     "metadata": {},
     "output_type": "display_data"
    }
   ],
   "source": [
    "plot(orings$temp, orings$prob, xlim = c(25,85), ylim = c(0,1), xlab = 'Temperature', ylab = 'Probability of Failure')\n",
    "x = seq(25,85,1)\n",
    "lines(x, ilogit(11.66299-0.21623 * x), col = 'red')"
   ]
  },
  {
   "cell_type": "markdown",
   "metadata": {},
   "source": [
    "#### (d) Now let's check the interpretation of $\\widehat{\\beta}_1$. Create a new temperature value of 45 and 46 degrees. Calculuate the odds of failure at 45 and 46 degrees. What is the ratio of these two odds? "
   ]
  },
  {
   "cell_type": "code",
   "execution_count": 23,
   "metadata": {},
   "outputs": [
    {
     "data": {
      "text/html": [
       "<table>\n",
       "<thead><tr><th scope=col>temp</th></tr></thead>\n",
       "<tbody>\n",
       "\t<tr><td>0.8055471</td></tr>\n",
       "</tbody>\n",
       "</table>\n"
      ],
      "text/latex": [
       "\\begin{tabular}{r|l}\n",
       " temp\\\\\n",
       "\\hline\n",
       "\t 0.8055471\\\\\n",
       "\\end{tabular}\n"
      ],
      "text/markdown": [
       "\n",
       "| temp |\n",
       "|---|\n",
       "| 0.8055471 |\n",
       "\n"
      ],
      "text/plain": [
       "  temp     \n",
       "1 0.8055471"
      ]
     },
     "metadata": {},
     "output_type": "display_data"
    },
    {
     "data": {
      "text/html": [
       "<strong>temp:</strong> 0.805547052442746"
      ],
      "text/latex": [
       "\\textbf{temp:} 0.805547052442746"
      ],
      "text/markdown": [
       "**temp:** 0.805547052442746"
      ],
      "text/plain": [
       "     temp \n",
       "0.8055471 "
      ]
     },
     "metadata": {},
     "output_type": "display_data"
    }
   ],
   "source": [
    "df1 = data.frame(temp = 45)\n",
    "df2 = data.frame(temp = 46)\n",
    "odds1 = exp(coef(glmod1)[1] + coef(glmod1)[2] * df1)\n",
    "odds2 = exp(coef(glmod1)[1] + coef(glmod1)[2] * df2)\n",
    "odds2/odds1\n",
    "exp(coef(glmod1)[2])"
   ]
  },
  {
   "cell_type": "markdown",
   "metadata": {},
   "source": [
    "#### (e) Compute confidence intervals for the model parameters \"by hand\"."
   ]
  },
  {
   "cell_type": "code",
   "execution_count": 26,
   "metadata": {},
   "outputs": [
    {
     "name": "stdout",
     "output_type": "stream",
     "text": [
      "95% CI for Beta 0: ( 5.202439 , 18.12354 ) \n",
      "95% CI for Beta 1: ( -0.3204645 , -0.1120028 )"
     ]
    }
   ],
   "source": [
    "cat('95% CI for Beta 0: (', coef(glmod1)[1] - qnorm(0.975) * 3.29626, ',', coef(glmod1)[1] + qnorm(0.975) * 3.29626, ') \\n')\n",
    "cat('95% CI for Beta 1: (', coef(glmod1)[2] - qnorm(0.975) * 0.05318, ',', coef(glmod1)[2] + qnorm(0.975) * 0.05318, ')')"
   ]
  },
  {
   "cell_type": "markdown",
   "metadata": {},
   "source": [
    "#### (f) Now compute them using confint(glmod). Notice that these intervals are slightly different; they are based on the profile likelihood and do not assume asymptotic normality. They are more accurate for small sample sizes. Profile likelihood confidence intervals don’t assume normality of the estimator and appear to perform better for small samples sizes than Wald CIs (above). They are, nonetheless, still based on an asymptotic approximation – the asymptotic chi-square distribution of the log likelihood ratio test statistic. (for more info: http://www.math.umt.edu/patterson/ProfileLikelihoodCI.pdf)"
   ]
  },
  {
   "cell_type": "code",
   "execution_count": 27,
   "metadata": {},
   "outputs": [
    {
     "name": "stderr",
     "output_type": "stream",
     "text": [
      "Waiting for profiling to be done...\n"
     ]
    },
    {
     "data": {
      "text/html": [
       "<table>\n",
       "<thead><tr><th></th><th scope=col>2.5 %</th><th scope=col>97.5 %</th></tr></thead>\n",
       "<tbody>\n",
       "\t<tr><th scope=row>(Intercept)</th><td> 5.575195</td><td>18.737598</td></tr>\n",
       "\t<tr><th scope=row>temp</th><td>-0.332657</td><td>-0.120179</td></tr>\n",
       "</tbody>\n",
       "</table>\n"
      ],
      "text/latex": [
       "\\begin{tabular}{r|ll}\n",
       "  & 2.5 \\% & 97.5 \\%\\\\\n",
       "\\hline\n",
       "\t(Intercept) &  5.575195 & 18.737598\\\\\n",
       "\ttemp & -0.332657 & -0.120179\\\\\n",
       "\\end{tabular}\n"
      ],
      "text/markdown": [
       "\n",
       "| <!--/--> | 2.5 % | 97.5 % |\n",
       "|---|---|---|\n",
       "| (Intercept) |  5.575195 | 18.737598 |\n",
       "| temp | -0.332657 | -0.120179 |\n",
       "\n"
      ],
      "text/plain": [
       "            2.5 %     97.5 %   \n",
       "(Intercept)  5.575195 18.737598\n",
       "temp        -0.332657 -0.120179"
      ]
     },
     "metadata": {},
     "output_type": "display_data"
    }
   ],
   "source": [
    "confint(glmod1)"
   ]
  },
  {
   "cell_type": "markdown",
   "metadata": {},
   "source": [
    "#### (g) Predict the probability of faulire at Temp = 45 degrees.\n"
   ]
  },
  {
   "cell_type": "code",
   "execution_count": 28,
   "metadata": {},
   "outputs": [
    {
     "data": {
      "text/html": [
       "<strong>1:</strong> 0.873523090983473"
      ],
      "text/latex": [
       "\\textbf{1:} 0.873523090983473"
      ],
      "text/markdown": [
       "**1:** 0.873523090983473"
      ],
      "text/plain": [
       "        1 \n",
       "0.8735231 "
      ]
     },
     "metadata": {},
     "output_type": "display_data"
    }
   ],
   "source": [
    "pred = predict.glm(glmod1, df1, se = T, type = 'response')\n",
    "pred$fit"
   ]
  },
  {
   "cell_type": "markdown",
   "metadata": {},
   "source": [
    "## Problem #2 \n",
    "\n",
    "A researcher is interested in how variables, such as gre (Graduate Record Exam scores), gpa (grade point average) and prestige of the undergraduate institution (rank), effect admission into graduate school. The response variable, admit/don't admit, is a binary variable.\n",
    "\n"
   ]
  },
  {
   "cell_type": "code",
   "execution_count": 29,
   "metadata": {},
   "outputs": [
    {
     "data": {
      "text/html": [
       "<table>\n",
       "<thead><tr><th scope=col>admit</th><th scope=col>gre</th><th scope=col>gpa</th><th scope=col>rank</th></tr></thead>\n",
       "<tbody>\n",
       "\t<tr><td>0   </td><td>380 </td><td>3.61</td><td>3   </td></tr>\n",
       "\t<tr><td>1   </td><td>660 </td><td>3.67</td><td>3   </td></tr>\n",
       "\t<tr><td>1   </td><td>800 </td><td>4.00</td><td>1   </td></tr>\n",
       "\t<tr><td>1   </td><td>640 </td><td>3.19</td><td>4   </td></tr>\n",
       "\t<tr><td>0   </td><td>520 </td><td>2.93</td><td>4   </td></tr>\n",
       "\t<tr><td>1   </td><td>760 </td><td>3.00</td><td>2   </td></tr>\n",
       "</tbody>\n",
       "</table>\n"
      ],
      "text/latex": [
       "\\begin{tabular}{r|llll}\n",
       " admit & gre & gpa & rank\\\\\n",
       "\\hline\n",
       "\t 0    & 380  & 3.61 & 3   \\\\\n",
       "\t 1    & 660  & 3.67 & 3   \\\\\n",
       "\t 1    & 800  & 4.00 & 1   \\\\\n",
       "\t 1    & 640  & 3.19 & 4   \\\\\n",
       "\t 0    & 520  & 2.93 & 4   \\\\\n",
       "\t 1    & 760  & 3.00 & 2   \\\\\n",
       "\\end{tabular}\n"
      ],
      "text/markdown": [
       "\n",
       "| admit | gre | gpa | rank |\n",
       "|---|---|---|---|\n",
       "| 0    | 380  | 3.61 | 3    |\n",
       "| 1    | 660  | 3.67 | 3    |\n",
       "| 1    | 800  | 4.00 | 1    |\n",
       "| 1    | 640  | 3.19 | 4    |\n",
       "| 0    | 520  | 2.93 | 4    |\n",
       "| 1    | 760  | 3.00 | 2    |\n",
       "\n"
      ],
      "text/plain": [
       "  admit gre gpa  rank\n",
       "1 0     380 3.61 3   \n",
       "2 1     660 3.67 3   \n",
       "3 1     800 4.00 1   \n",
       "4 1     640 3.19 4   \n",
       "5 0     520 2.93 4   \n",
       "6 1     760 3.00 2   "
      ]
     },
     "metadata": {},
     "output_type": "display_data"
    }
   ],
   "source": [
    "admission = read.csv(\"https://stats.idre.ucla.edu/stat/data/binary.csv\")\n",
    "head(admission)\n"
   ]
  },
  {
   "cell_type": "markdown",
   "metadata": {},
   "source": [
    "#### (a) Perform logistic regression treating ${\\tt admit}$ as the response. Be sure to treat ${\\tt rank}$ as a categorical variable."
   ]
  },
  {
   "cell_type": "code",
   "execution_count": 31,
   "metadata": {},
   "outputs": [
    {
     "data": {
      "text/plain": [
       "\n",
       "Call:\n",
       "glm(formula = admit ~ ., family = \"binomial\", data = admission)\n",
       "\n",
       "Deviance Residuals: \n",
       "    Min       1Q   Median       3Q      Max  \n",
       "-1.6268  -0.8662  -0.6388   1.1490   2.0790  \n",
       "\n",
       "Coefficients:\n",
       "             Estimate Std. Error z value Pr(>|z|)    \n",
       "(Intercept) -3.989979   1.139951  -3.500 0.000465 ***\n",
       "gre          0.002264   0.001094   2.070 0.038465 *  \n",
       "gpa          0.804038   0.331819   2.423 0.015388 *  \n",
       "rank2       -0.675443   0.316490  -2.134 0.032829 *  \n",
       "rank3       -1.340204   0.345306  -3.881 0.000104 ***\n",
       "rank4       -1.551464   0.417832  -3.713 0.000205 ***\n",
       "---\n",
       "Signif. codes:  0 '***' 0.001 '**' 0.01 '*' 0.05 '.' 0.1 ' ' 1\n",
       "\n",
       "(Dispersion parameter for binomial family taken to be 1)\n",
       "\n",
       "    Null deviance: 499.98  on 399  degrees of freedom\n",
       "Residual deviance: 458.52  on 394  degrees of freedom\n",
       "AIC: 470.52\n",
       "\n",
       "Number of Fisher Scoring iterations: 4\n"
      ]
     },
     "metadata": {},
     "output_type": "display_data"
    }
   ],
   "source": [
    "admission$rank = as.factor(admission$rank)\n",
    "glmod2 = glm(data = admission, admit ~ ., family = 'binomial')\n",
    "summary(glmod2)"
   ]
  },
  {
   "cell_type": "markdown",
   "metadata": {},
   "source": [
    "#### (b) Construct a reduced model without the ${\\tt rank}$ variable. Conduct the likelihood ratio test to decide whether the reduced model is sufficient. You can do this using ${\\tt anova}$ or ${\\tt lrtest}$."
   ]
  },
  {
   "cell_type": "code",
   "execution_count": 33,
   "metadata": {},
   "outputs": [
    {
     "data": {
      "text/html": [
       "<table>\n",
       "<thead><tr><th scope=col>Resid. Df</th><th scope=col>Resid. Dev</th><th scope=col>Df</th><th scope=col>Deviance</th><th scope=col>Pr(&gt;Chi)</th></tr></thead>\n",
       "<tbody>\n",
       "\t<tr><td>394         </td><td>458.5175    </td><td>NA          </td><td>       NA   </td><td>          NA</td></tr>\n",
       "\t<tr><td>397         </td><td>480.3440    </td><td>-3          </td><td>-21.82649   </td><td>7.088456e-05</td></tr>\n",
       "</tbody>\n",
       "</table>\n"
      ],
      "text/latex": [
       "\\begin{tabular}{r|lllll}\n",
       " Resid. Df & Resid. Dev & Df & Deviance & Pr(>Chi)\\\\\n",
       "\\hline\n",
       "\t 394          & 458.5175     & NA           &        NA    &           NA\\\\\n",
       "\t 397          & 480.3440     & -3           & -21.82649    & 7.088456e-05\\\\\n",
       "\\end{tabular}\n"
      ],
      "text/markdown": [
       "\n",
       "| Resid. Df | Resid. Dev | Df | Deviance | Pr(>Chi) |\n",
       "|---|---|---|---|---|\n",
       "| 394          | 458.5175     | NA           |        NA    |           NA |\n",
       "| 397          | 480.3440     | -3           | -21.82649    | 7.088456e-05 |\n",
       "\n"
      ],
      "text/plain": [
       "  Resid. Df Resid. Dev Df Deviance  Pr(>Chi)    \n",
       "1 394       458.5175   NA        NA           NA\n",
       "2 397       480.3440   -3 -21.82649 7.088456e-05"
      ]
     },
     "metadata": {},
     "output_type": "display_data"
    }
   ],
   "source": [
    "glmod2red = glm(data = admission, admit ~ gre + gpa, family = 'binomial')\n",
    "anova(glmod2, glmod2red, test = 'LRT')"
   ]
  },
  {
   "cell_type": "markdown",
   "metadata": {},
   "source": [
    "The likelihood ratio test gives us a chi squared statistic that is below 0.05 so at the 95% confidence level we can reject the $H_0:$ The reduced model is sufficent. We should use the model with rank predictor"
   ]
  },
  {
   "cell_type": "markdown",
   "metadata": {},
   "source": [
    "## Problem #3\n",
    "\n",
    "For each 30 Galapagos islands, we have a count of the number of plant species found on each island and the number that are endemic to that island. We also have five geographic variables for each island. \n",
    "\n",
    "1. Species: the number of plant species found on the island\n",
    "2. Endemics: the number of endemic species\n",
    "3. Area: the area of the island (km$^2$)\n",
    "4. Elevation: the highest elevation of the island (m)\n",
    "5. Nearest: the distance from the nearest island (km)\n",
    "6. Scruz: the distance from Santa Cruz island (km)\n",
    "7. Adjacent: the area of the adjacent island (square km)\n",
    "\n",
    "#### (a) Remove the Endemics variable from the dataframe, and fit a linear model with Species as the respons and all other variables as predictors. Run some diagnostics and explain why this model is not the best fit."
   ]
  },
  {
   "cell_type": "code",
   "execution_count": 39,
   "metadata": {},
   "outputs": [
    {
     "data": {
      "text/html": [
       "<table>\n",
       "<thead><tr><th></th><th scope=col>Species</th><th scope=col>Area</th><th scope=col>Elevation</th><th scope=col>Nearest</th><th scope=col>Scruz</th><th scope=col>Adjacent</th></tr></thead>\n",
       "<tbody>\n",
       "\t<tr><th scope=row>Baltra</th><td>58    </td><td>25.09 </td><td>346   </td><td>0.6   </td><td> 0.6  </td><td>  1.84</td></tr>\n",
       "\t<tr><th scope=row>Bartolome</th><td>31    </td><td> 1.24 </td><td>109   </td><td>0.6   </td><td>26.3  </td><td>572.33</td></tr>\n",
       "\t<tr><th scope=row>Caldwell</th><td> 3    </td><td> 0.21 </td><td>114   </td><td>2.8   </td><td>58.7  </td><td>  0.78</td></tr>\n",
       "\t<tr><th scope=row>Champion</th><td>25    </td><td> 0.10 </td><td> 46   </td><td>1.9   </td><td>47.4  </td><td>  0.18</td></tr>\n",
       "\t<tr><th scope=row>Coamano</th><td> 2    </td><td> 0.05 </td><td> 77   </td><td>1.9   </td><td> 1.9  </td><td>903.82</td></tr>\n",
       "\t<tr><th scope=row>Daphne.Major</th><td>18    </td><td> 0.34 </td><td>119   </td><td>8.0   </td><td> 8.0  </td><td>  1.84</td></tr>\n",
       "</tbody>\n",
       "</table>\n"
      ],
      "text/latex": [
       "\\begin{tabular}{r|llllll}\n",
       "  & Species & Area & Elevation & Nearest & Scruz & Adjacent\\\\\n",
       "\\hline\n",
       "\tBaltra & 58     & 25.09  & 346    & 0.6    &  0.6   &   1.84\\\\\n",
       "\tBartolome & 31     &  1.24  & 109    & 0.6    & 26.3   & 572.33\\\\\n",
       "\tCaldwell &  3     &  0.21  & 114    & 2.8    & 58.7   &   0.78\\\\\n",
       "\tChampion & 25     &  0.10  &  46    & 1.9    & 47.4   &   0.18\\\\\n",
       "\tCoamano &  2     &  0.05  &  77    & 1.9    &  1.9   & 903.82\\\\\n",
       "\tDaphne.Major & 18     &  0.34  & 119    & 8.0    &  8.0   &   1.84\\\\\n",
       "\\end{tabular}\n"
      ],
      "text/markdown": [
       "\n",
       "| <!--/--> | Species | Area | Elevation | Nearest | Scruz | Adjacent |\n",
       "|---|---|---|---|---|---|---|\n",
       "| Baltra | 58     | 25.09  | 346    | 0.6    |  0.6   |   1.84 |\n",
       "| Bartolome | 31     |  1.24  | 109    | 0.6    | 26.3   | 572.33 |\n",
       "| Caldwell |  3     |  0.21  | 114    | 2.8    | 58.7   |   0.78 |\n",
       "| Champion | 25     |  0.10  |  46    | 1.9    | 47.4   |   0.18 |\n",
       "| Coamano |  2     |  0.05  |  77    | 1.9    |  1.9   | 903.82 |\n",
       "| Daphne.Major | 18     |  0.34  | 119    | 8.0    |  8.0   |   1.84 |\n",
       "\n"
      ],
      "text/plain": [
       "             Species Area  Elevation Nearest Scruz Adjacent\n",
       "Baltra       58      25.09 346       0.6      0.6    1.84  \n",
       "Bartolome    31       1.24 109       0.6     26.3  572.33  \n",
       "Caldwell      3       0.21 114       2.8     58.7    0.78  \n",
       "Champion     25       0.10  46       1.9     47.4    0.18  \n",
       "Coamano       2       0.05  77       1.9      1.9  903.82  \n",
       "Daphne.Major 18       0.34 119       8.0      8.0    1.84  "
      ]
     },
     "metadata": {},
     "output_type": "display_data"
    }
   ],
   "source": [
    "#library(faraway) #If you have trouble loading the faraway package, \n",
    "#please load the data file given in the Unit #6 folder on canvas.\n",
    "#library(tidyverse)\n",
    "#library(ggplot2)\n",
    "#library(gridExtra)\n",
    "\n",
    "data(gala)\n",
    "gala = gala[,-2]\n",
    "head(gala)"
   ]
  },
  {
   "cell_type": "code",
   "execution_count": 40,
   "metadata": {
    "scrolled": true
   },
   "outputs": [
    {
     "data": {
      "text/plain": [
       "\n",
       "Call:\n",
       "lm(formula = Species ~ ., data = gala)\n",
       "\n",
       "Residuals:\n",
       "     Min       1Q   Median       3Q      Max \n",
       "-111.679  -34.898   -7.862   33.460  182.584 \n",
       "\n",
       "Coefficients:\n",
       "             Estimate Std. Error t value Pr(>|t|)    \n",
       "(Intercept)  7.068221  19.154198   0.369 0.715351    \n",
       "Area        -0.023938   0.022422  -1.068 0.296318    \n",
       "Elevation    0.319465   0.053663   5.953 3.82e-06 ***\n",
       "Nearest      0.009144   1.054136   0.009 0.993151    \n",
       "Scruz       -0.240524   0.215402  -1.117 0.275208    \n",
       "Adjacent    -0.074805   0.017700  -4.226 0.000297 ***\n",
       "---\n",
       "Signif. codes:  0 '***' 0.001 '**' 0.01 '*' 0.05 '.' 0.1 ' ' 1\n",
       "\n",
       "Residual standard error: 60.98 on 24 degrees of freedom\n",
       "Multiple R-squared:  0.7658,\tAdjusted R-squared:  0.7171 \n",
       "F-statistic:  15.7 on 5 and 24 DF,  p-value: 6.838e-07\n"
      ]
     },
     "metadata": {},
     "output_type": "display_data"
    },
    {
     "name": "stderr",
     "output_type": "stream",
     "text": [
      "Warning message:\n",
      "\"`stat` is deprecated\"`geom_smooth()` using method = 'loess' and formula 'y ~ x'\n",
      "`geom_smooth()` using method = 'loess' and formula 'y ~ x'\n",
      "`geom_smooth()` using method = 'loess' and formula 'y ~ x'\n"
     ]
    },
    {
     "data": {
      "image/png": "[encoded data removed]",
      "text/plain": [
       "plot without title"
      ]
     },
     "metadata": {},
     "output_type": "display_data"
    }
   ],
   "source": [
    "lmod3 = lm(data = gala, Species ~ .)\n",
    "summary(lmod3)\n",
    "p1 <- qplot(data = lmod3, x = .fitted, y = .resid) + geom_hline(yintercept = 0) + geom_smooth(se = FALSE) + ggtitle('Residuals vs. Fitted')\n",
    "p2 <- qplot(data = lmod3, sample =.stdresid, stat = \"qq\") + geom_abline(size = 1, color = 'red') + ggtitle('Normed QQ')\n",
    "p3 <- qplot(data = lmod3, x = .fitted, y = sqrt(abs(.stdresid))) + geom_smooth(se = FALSE) + ggtitle('Scale-Location')\n",
    "p4 <- qplot(data = lmod3, .hat, .stdresid) + geom_smooth(se = FALSE) + ggtitle('Residuals vs. Leverage')\n",
    "grid.arrange(p1,p2,p3,p4)"
   ]
  },
  {
   "cell_type": "markdown",
   "metadata": {},
   "source": [
    "We can see several issues with our MLR model. The fitted vs. redisuals plot shows clustering and non-constant variance, specifically that as the fitted values get large the residuals do as well. The QQ plot shows serious issues with normally distibuted errors as we can see by the points failing to cluster around our y = x line. Lastly we seem to have 1 influencial outlier seen on our scale-residual plot in the bottom right corner."
   ]
  },
  {
   "cell_type": "markdown",
   "metadata": {},
   "source": [
    "#### (b) Recall that a square root transformation of the response might be helpful when the nonconstant variance assumption is violated. Try this transformation. "
   ]
  },
  {
   "cell_type": "code",
   "execution_count": 41,
   "metadata": {},
   "outputs": [
    {
     "data": {
      "text/plain": [
       "\n",
       "Call:\n",
       "lm(formula = sqrt(Species) ~ ., data = gala)\n",
       "\n",
       "Residuals:\n",
       "    Min      1Q  Median      3Q     Max \n",
       "-4.5572 -1.4969 -0.3031  1.3527  5.2110 \n",
       "\n",
       "Coefficients:\n",
       "              Estimate Std. Error t value Pr(>|t|)    \n",
       "(Intercept)  3.3919243  0.8712678   3.893 0.000690 ***\n",
       "Area        -0.0019718  0.0010199  -1.933 0.065080 .  \n",
       "Elevation    0.0164784  0.0024410   6.751 5.55e-07 ***\n",
       "Nearest      0.0249326  0.0479495   0.520 0.607844    \n",
       "Scruz       -0.0134826  0.0097980  -1.376 0.181509    \n",
       "Adjacent    -0.0033669  0.0008051  -4.182 0.000333 ***\n",
       "---\n",
       "Signif. codes:  0 '***' 0.001 '**' 0.01 '*' 0.05 '.' 0.1 ' ' 1\n",
       "\n",
       "Residual standard error: 2.774 on 24 degrees of freedom\n",
       "Multiple R-squared:  0.7827,\tAdjusted R-squared:  0.7374 \n",
       "F-statistic: 17.29 on 5 and 24 DF,  p-value: 2.874e-07\n"
      ]
     },
     "metadata": {},
     "output_type": "display_data"
    },
    {
     "name": "stderr",
     "output_type": "stream",
     "text": [
      "Warning message:\n",
      "\"`stat` is deprecated\"`geom_smooth()` using method = 'loess' and formula 'y ~ x'\n",
      "`geom_smooth()` using method = 'loess' and formula 'y ~ x'\n",
      "`geom_smooth()` using method = 'loess' and formula 'y ~ x'\n"
     ]
    },
    {
     "data": {
      "image/png": "[encoded data removed]",
      "text/plain": [
       "plot without title"
      ]
     },
     "metadata": {},
     "output_type": "display_data"
    }
   ],
   "source": [
    "lmod3sqrt = lm(data = gala, sqrt(Species) ~ .)\n",
    "summary(lmod3sqrt)\n",
    "p1 <- qplot(data = lmod3sqrt, x = .fitted, y = .resid) + geom_hline(yintercept = 0) + geom_smooth(se = FALSE) + ggtitle('Residuals vs. Fitted')\n",
    "p2 <- qplot(data = lmod3sqrt, sample =.stdresid, stat = \"qq\") + geom_abline(size = 1, color = 'red') + ggtitle('Normed QQ')\n",
    "p3 <- qplot(data = lmod3sqrt, x = .fitted, y = sqrt(abs(.stdresid))) + geom_smooth(se = FALSE) + ggtitle('Scale-Location')\n",
    "p4 <- qplot(data = lmod3sqrt, .hat, .stdresid) + geom_smooth(se = FALSE) + ggtitle('Residuals vs. Leverage')\n",
    "grid.arrange(p1,p2,p3,p4)"
   ]
  },
  {
   "cell_type": "markdown",
   "metadata": {},
   "source": [
    "We can see that some of the issues have been solved. The homoscedasticity and normally distibuted errors look significantly better, but the scale location plot line does still rise at the higher end of the residuals so it is not perfect."
   ]
  },
  {
   "cell_type": "markdown",
   "metadata": {},
   "source": [
    "#### (c) One issue with a transformation is that it makes interpretation less natural. Let's try a Poisson regression (with no transformation on the repsonse)."
   ]
  },
  {
   "cell_type": "code",
   "execution_count": 42,
   "metadata": {},
   "outputs": [
    {
     "data": {
      "text/plain": [
       "\n",
       "Call:\n",
       "glm(formula = Species ~ ., family = poisson, data = gala)\n",
       "\n",
       "Deviance Residuals: \n",
       "    Min       1Q   Median       3Q      Max  \n",
       "-8.2752  -4.4966  -0.9443   1.9168  10.1849  \n",
       "\n",
       "Coefficients:\n",
       "              Estimate Std. Error z value Pr(>|z|)    \n",
       "(Intercept)  3.155e+00  5.175e-02  60.963  < 2e-16 ***\n",
       "Area        -5.799e-04  2.627e-05 -22.074  < 2e-16 ***\n",
       "Elevation    3.541e-03  8.741e-05  40.507  < 2e-16 ***\n",
       "Nearest      8.826e-03  1.821e-03   4.846 1.26e-06 ***\n",
       "Scruz       -5.709e-03  6.256e-04  -9.126  < 2e-16 ***\n",
       "Adjacent    -6.630e-04  2.933e-05 -22.608  < 2e-16 ***\n",
       "---\n",
       "Signif. codes:  0 '***' 0.001 '**' 0.01 '*' 0.05 '.' 0.1 ' ' 1\n",
       "\n",
       "(Dispersion parameter for poisson family taken to be 1)\n",
       "\n",
       "    Null deviance: 3510.73  on 29  degrees of freedom\n",
       "Residual deviance:  716.85  on 24  degrees of freedom\n",
       "AIC: 889.68\n",
       "\n",
       "Number of Fisher Scoring iterations: 5\n"
      ]
     },
     "metadata": {},
     "output_type": "display_data"
    }
   ],
   "source": [
    "glmod3 = glm(data = gala, Species ~ ., family = poisson)\n",
    "summary(glmod3)"
   ]
  },
  {
   "cell_type": "markdown",
   "metadata": {},
   "source": [
    "#### (d) Interpret the parameter associated with Nearest. "
   ]
  },
  {
   "cell_type": "code",
   "execution_count": 43,
   "metadata": {},
   "outputs": [
    {
     "data": {
      "text/html": [
       "<strong>Nearest:</strong> 1.00886463203537"
      ],
      "text/latex": [
       "\\textbf{Nearest:} 1.00886463203537"
      ],
      "text/markdown": [
       "**Nearest:** 1.00886463203537"
      ],
      "text/plain": [
       " Nearest \n",
       "1.008865 "
      ]
     },
     "metadata": {},
     "output_type": "display_data"
    }
   ],
   "source": [
    "exp(coef(glmod3)[4])"
   ]
  },
  {
   "cell_type": "markdown",
   "metadata": {},
   "source": [
    "Provided that the model assumptions are correct, for each one unit increase in Nearest we exect to see an average increase of 1.01 in Species, all other covariates being equal."
   ]
  },
  {
   "cell_type": "markdown",
   "metadata": {},
   "source": [
    "#### (e) Calculate the deviance for Poisson regression. Does this value show up in the summary? Also, check the goodness of fit of this model using Pearson's $\\chi^2$ statistic. What do you conclude about the fit?"
   ]
  },
  {
   "cell_type": "code",
   "execution_count": 46,
   "metadata": {},
   "outputs": [
    {
     "name": "stdout",
     "output_type": "stream",
     "text": [
      "Residual Deviance: 716.8458 \n",
      "Chi Squared Stat: 761.9792 \n",
      "P-value: 0"
     ]
    }
   ],
   "source": [
    "dev = with(gala, -2 * sum(Species * log(fitted(glmod3)/Species) - (Species - fitted(glmod3))))\n",
    "cat('Residual Deviance:', dev, '\\n')\n",
    "chisq = with(gala, sum((Species - fitted(glmod3))^2/fitted(glmod3)))\n",
    "cat('Chi Squared Stat:', chisq, '\\n')\n",
    "pval = 1 - pchisq(chisq,24)\n",
    "cat('P-value:', pval)"
   ]
  },
  {
   "cell_type": "markdown",
   "metadata": {},
   "source": [
    "Our p-value is machine 0 so we can reject our $H_0:$ the model is sufficent. "
   ]
  },
  {
   "cell_type": "markdown",
   "metadata": {},
   "source": [
    "## Problem #4\n",
    "\n",
    "Research another type of GLM (beyond binomial and Poisson), find a dataset that is reasonably modeled by that GLM, and model it. Does the model fit well?"
   ]
  },
  {
   "cell_type": "code",
   "execution_count": 56,
   "metadata": {},
   "outputs": [
    {
     "data": {
      "text/html": [
       "<table>\n",
       "<thead><tr><th scope=col>yield</th><th scope=col>gravity</th><th scope=col>pressure</th><th scope=col>temp10</th><th scope=col>temp</th><th scope=col>batch</th></tr></thead>\n",
       "<tbody>\n",
       "\t<tr><td>0.122</td><td>50.8 </td><td>8.6  </td><td>190  </td><td>205  </td><td>1    </td></tr>\n",
       "\t<tr><td>0.223</td><td>50.8 </td><td>8.6  </td><td>190  </td><td>275  </td><td>1    </td></tr>\n",
       "\t<tr><td>0.347</td><td>50.8 </td><td>8.6  </td><td>190  </td><td>345  </td><td>1    </td></tr>\n",
       "\t<tr><td>0.457</td><td>50.8 </td><td>8.6  </td><td>190  </td><td>407  </td><td>1    </td></tr>\n",
       "\t<tr><td>0.080</td><td>40.8 </td><td>3.5  </td><td>210  </td><td>218  </td><td>2    </td></tr>\n",
       "\t<tr><td>0.131</td><td>40.8 </td><td>3.5  </td><td>210  </td><td>273  </td><td>2    </td></tr>\n",
       "</tbody>\n",
       "</table>\n"
      ],
      "text/latex": [
       "\\begin{tabular}{r|llllll}\n",
       " yield & gravity & pressure & temp10 & temp & batch\\\\\n",
       "\\hline\n",
       "\t 0.122 & 50.8  & 8.6   & 190   & 205   & 1    \\\\\n",
       "\t 0.223 & 50.8  & 8.6   & 190   & 275   & 1    \\\\\n",
       "\t 0.347 & 50.8  & 8.6   & 190   & 345   & 1    \\\\\n",
       "\t 0.457 & 50.8  & 8.6   & 190   & 407   & 1    \\\\\n",
       "\t 0.080 & 40.8  & 3.5   & 210   & 218   & 2    \\\\\n",
       "\t 0.131 & 40.8  & 3.5   & 210   & 273   & 2    \\\\\n",
       "\\end{tabular}\n"
      ],
      "text/markdown": [
       "\n",
       "| yield | gravity | pressure | temp10 | temp | batch |\n",
       "|---|---|---|---|---|---|\n",
       "| 0.122 | 50.8  | 8.6   | 190   | 205   | 1     |\n",
       "| 0.223 | 50.8  | 8.6   | 190   | 275   | 1     |\n",
       "| 0.347 | 50.8  | 8.6   | 190   | 345   | 1     |\n",
       "| 0.457 | 50.8  | 8.6   | 190   | 407   | 1     |\n",
       "| 0.080 | 40.8  | 3.5   | 210   | 218   | 2     |\n",
       "| 0.131 | 40.8  | 3.5   | 210   | 273   | 2     |\n",
       "\n"
      ],
      "text/plain": [
       "  yield gravity pressure temp10 temp batch\n",
       "1 0.122 50.8    8.6      190    205  1    \n",
       "2 0.223 50.8    8.6      190    275  1    \n",
       "3 0.347 50.8    8.6      190    345  1    \n",
       "4 0.457 50.8    8.6      190    407  1    \n",
       "5 0.080 40.8    3.5      210    218  2    \n",
       "6 0.131 40.8    3.5      210    273  2    "
      ]
     },
     "metadata": {},
     "output_type": "display_data"
    },
    {
     "data": {
      "text/plain": [
       "\n",
       "Call:\n",
       "betareg(formula = yield ~ batch + temp, data = GasolineYield)\n",
       "\n",
       "Standardized weighted residuals 2:\n",
       "    Min      1Q  Median      3Q     Max \n",
       "-2.8750 -0.8149  0.1601  0.8384  2.0483 \n",
       "\n",
       "Coefficients (mean model with logit link):\n",
       "              Estimate Std. Error z value Pr(>|z|)    \n",
       "(Intercept) -6.1595710  0.1823247 -33.784  < 2e-16 ***\n",
       "batch1       1.7277289  0.1012294  17.067  < 2e-16 ***\n",
       "batch2       1.3225969  0.1179020  11.218  < 2e-16 ***\n",
       "batch3       1.5723099  0.1161045  13.542  < 2e-16 ***\n",
       "batch4       1.0597141  0.1023598  10.353  < 2e-16 ***\n",
       "batch5       1.1337518  0.1035232  10.952  < 2e-16 ***\n",
       "batch6       1.0401618  0.1060365   9.809  < 2e-16 ***\n",
       "batch7       0.5436922  0.1091275   4.982 6.29e-07 ***\n",
       "batch8       0.4959007  0.1089257   4.553 5.30e-06 ***\n",
       "batch9       0.3857930  0.1185933   3.253  0.00114 ** \n",
       "temp         0.0109669  0.0004126  26.577  < 2e-16 ***\n",
       "\n",
       "Phi coefficients (precision model with identity link):\n",
       "      Estimate Std. Error z value Pr(>|z|)    \n",
       "(phi)    440.3      110.0   4.002 6.29e-05 ***\n",
       "---\n",
       "Signif. codes:  0 '***' 0.001 '**' 0.01 '*' 0.05 '.' 0.1 ' ' 1 \n",
       "\n",
       "Type of estimator: ML (maximum likelihood)\n",
       "Log-likelihood:  84.8 on 12 Df\n",
       "Pseudo R-squared: 0.9617\n",
       "Number of iterations: 51 (BFGS) + 3 (Fisher scoring) "
      ]
     },
     "metadata": {},
     "output_type": "display_data"
    },
    {
     "data": {
      "text/plain": [
       "\n",
       "Call:\n",
       "betareg(formula = yield ~ batch + temp, data = GasolineYield, link = \"loglog\")\n",
       "\n",
       "Standardized weighted residuals 2:\n",
       "    Min      1Q  Median      3Q     Max \n",
       "-2.2151 -0.8785  0.1526  0.8737  3.0834 \n",
       "\n",
       "Coefficients (mean model with loglog link):\n",
       "              Estimate Std. Error z value Pr(>|z|)    \n",
       "(Intercept) -2.7937944  0.0579177 -48.237  < 2e-16 ***\n",
       "batch1       0.9038714  0.0347387  26.019  < 2e-16 ***\n",
       "batch2       0.6553991  0.0376683  17.399  < 2e-16 ***\n",
       "batch3       0.7684237  0.0378459  20.304  < 2e-16 ***\n",
       "batch4       0.5375955  0.0335027  16.046  < 2e-16 ***\n",
       "batch5       0.5516613  0.0346755  15.909  < 2e-16 ***\n",
       "batch6       0.5198331  0.0351349  14.795  < 2e-16 ***\n",
       "batch7       0.2921514  0.0340681   8.576  < 2e-16 ***\n",
       "batch8       0.2504792  0.0349788   7.161 8.02e-13 ***\n",
       "batch9       0.1871284  0.0383089   4.885 1.04e-06 ***\n",
       "temp         0.0053645  0.0001341  40.008  < 2e-16 ***\n",
       "\n",
       "Phi coefficients (precision model with identity link):\n",
       "      Estimate Std. Error z value Pr(>|z|)    \n",
       "(phi)    906.7      226.6   4.001 6.32e-05 ***\n",
       "---\n",
       "Signif. codes:  0 '***' 0.001 '**' 0.01 '*' 0.05 '.' 0.1 ' ' 1 \n",
       "\n",
       "Type of estimator: ML (maximum likelihood)\n",
       "Log-likelihood: 96.16 on 12 Df\n",
       "Pseudo R-squared: 0.9852\n",
       "Number of iterations: 51 (BFGS) + 2 (Fisher scoring) "
      ]
     },
     "metadata": {},
     "output_type": "display_data"
    },
    {
     "name": "stderr",
     "output_type": "stream",
     "text": [
      "Warning message:\n",
      "\"contrasts dropped from factor batch\"Warning message:\n",
      "\"contrasts dropped from factor batch\""
     ]
    },
    {
     "data": {
      "image/png": "[encoded data removed]",
      "text/plain": [
       "plot without title"
      ]
     },
     "metadata": {},
     "output_type": "display_data"
    }
   ],
   "source": [
    "#https://cran.r-project.org/web/packages/betareg/vignettes/betareg.pdf\n",
    "#beta regression is not included in the glm function families, but the beta family of distributions is expo\n",
    "#install.packages('betareg')\n",
    "#library(betareg)\n",
    "data('GasolineYield', package = 'betareg')\n",
    "head(GasolineYield)\n",
    "betamodlogit = betareg(data = GasolineYield, yield ~ batch + temp)\n",
    "summary(betamodlogit)\n",
    "betamodloglog = betareg(data = GasolineYield, yield ~ batch + temp, link = 'loglog')\n",
    "summary(betamodloglog)\n",
    "ggplot(GasolineYield, aes(x = temp, y = yield)) +\n",
    "  geom_point(size = 4, aes(fill = batch), shape = 21) +\n",
    "  scale_fill_grey() +\n",
    "  geom_line(aes(y = predict(betamodloglog, GasolineYield),\n",
    "                colour = \"log-log\", linetype = \"log-log\")) +\n",
    "  geom_line(aes(y = predict(betamodlogit, GasolineYield), \n",
    "                colour = \"logit\", linetype = \"logit\")) +\n",
    "  scale_colour_manual(\"\", values = c(\"red\", \"blue\")) +\n",
    "  scale_linetype_manual(\"\", values = c(\"solid\", \"dashed\")) +\n",
    "  theme_bw()"
   ]
  },
  {
   "cell_type": "markdown",
   "metadata": {},
   "source": [
    "This data is well suited for beta regression (unsuprising because it came with the package). This fit can be examined by looking at the precision and pseudo R-squared values. In addition different link functions can be used with beta regression, and in this case I have used the logit, and loglog functions. The loglog link function improves the pseudo R-squared value from 0.9617 to 0.9852 which means that this data is well explained by the regression model in either case. "
   ]
  },
  {
   "cell_type": "code",
   "execution_count": null,
   "metadata": {},
   "outputs": [],
   "source": []
  }
 ],
 "metadata": {
  "kernelspec": {
   "display_name": "R",
   "language": "R",
   "name": "ir"
  },
  "language_info": {
   "codemirror_mode": "r",
   "file_extension": ".r",
   "mimetype": "text/x-r-source",
   "name": "R",
   "pygments_lexer": "r",
   "version": "3.6.1"
  }
 },
 "nbformat": 4,
 "nbformat_minor": 2
}
